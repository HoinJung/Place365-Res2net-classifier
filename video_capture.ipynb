{
 "cells": [
  {
   "cell_type": "code",
   "execution_count": 1,
   "metadata": {},
   "outputs": [
    {
     "name": "stdout",
     "output_type": "stream",
     "text": [
      "video/frame/getMedia14/\n",
      "video/getMedia14.mp4\n",
      "video/frame/getMedia17/\n",
      "video/getMedia17.mp4\n",
      "video/frame/getMedia9/\n",
      "video/getMedia9.mp4\n",
      "video/frame/getMedia1/\n",
      "video/getMedia1.mp4\n",
      "video/frame/getMedia18/\n",
      "video/getMedia18.mp4\n",
      "video/frame/getMedia10/\n",
      "video/getMedia10.mp4\n",
      "video/frame/getMedia4/\n",
      "video/getMedia4.mp4\n",
      "video/frame/getMedia15/\n",
      "video/getMedia15.mp4\n",
      "video/frame/getMedia16/\n",
      "video/getMedia16.mp4\n",
      "video/frame/getMedia5/\n",
      "video/getMedia5.mp4\n",
      "video/frame/getMedia8/\n",
      "video/getMedia8.mp4\n",
      "video/frame/getMedia12/\n",
      "video/getMedia12.mp4\n",
      "video/frame/getMedia3/\n",
      "video/getMedia3.mp4\n",
      "video/frame/.ipynb_checkpoints/\n",
      "video/.ipynb_checkpoints\n",
      "video/frame/getMedia19/\n",
      "video/getMedia19.mp4\n",
      "video/frame/getMedia2/\n",
      "video/getMedia2.mp4\n",
      "video/frame/getMedia13/\n",
      "video/getMedia13.mp4\n",
      "video/frame/frame/\n",
      "video/frame\n",
      "video/frame/getMedia7/\n",
      "video/getMedia7.mp4\n"
     ]
    }
   ],
   "source": [
    "import cv2 # 영상의 의미지를 연속적으로 캡쳐할 수 있게 하는 class # 영상이 있는 경로 \n",
    "import os\n",
    "video_dir = 'video/'\n",
    "video_list = os.listdir(video_dir)\n",
    "\n",
    "os.makedirs(video_dir+'frame/',  exist_ok=True)\n",
    "\n",
    "for vid_num in video_list :\n",
    "    vidcap = cv2.VideoCapture(video_dir + vid_num) \n",
    "    save_path = (video_dir+'frame/'+vid_num+'/').replace('.mp4','')\n",
    "    os.makedirs(save_path, exist_ok = True)\n",
    "    count = 0 \n",
    "    print(save_path)\n",
    "    print(video_dir+vid_num)\n",
    "    while(vidcap.isOpened()): \n",
    "        ret, image = vidcap.read() \n",
    "        # 이미지 사이즈 960x540으로 변경 \n",
    "        try : \n",
    "            image = cv2.resize(image, (512, 512)) \n",
    "        except :\n",
    "            break\n",
    "\n",
    "\n",
    "        # 30프레임당 하나씩 이미지 추출 \n",
    "        \n",
    "        if(int(vidcap.get(1)) % 10 == 0): \n",
    "    #         print('Saved frame number : ' + str(int(vidcap.get(1)))) \n",
    "            # 추출된 이미지가 저장되는 경로 \n",
    "            \n",
    "            cv2.imwrite(save_path+'frame' + str(count) + \".png\", image) \n",
    "#             cv2.imwrite(save_path+\"frame%d\" + \".png\" % count, image) \n",
    "            #print('Saved frame%d.jpg' % count) \n",
    "            count += 1 \n",
    "    vidcap.release()\n",
    "\n"
   ]
  },
  {
   "cell_type": "code",
   "execution_count": null,
   "metadata": {},
   "outputs": [],
   "source": []
  },
  {
   "cell_type": "code",
   "execution_count": null,
   "metadata": {},
   "outputs": [],
   "source": []
  },
  {
   "cell_type": "code",
   "execution_count": null,
   "metadata": {},
   "outputs": [],
   "source": []
  }
 ],
 "metadata": {
  "kernelspec": {
   "display_name": "Python 3",
   "language": "python",
   "name": "python3"
  },
  "language_info": {
   "codemirror_mode": {
    "name": "ipython",
    "version": 3
   },
   "file_extension": ".py",
   "mimetype": "text/x-python",
   "name": "python",
   "nbconvert_exporter": "python",
   "pygments_lexer": "ipython3",
   "version": "3.7.8"
  }
 },
 "nbformat": 4,
 "nbformat_minor": 4
}
